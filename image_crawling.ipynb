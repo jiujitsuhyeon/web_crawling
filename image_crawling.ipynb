{
  "nbformat": 4,
  "nbformat_minor": 0,
  "metadata": {
    "colab": {
      "name": "image_crawling.ipynb",
      "provenance": [],
      "collapsed_sections": [],
      "authorship_tag": "ABX9TyMghyIKN5R+brgxQ9iOvll/",
      "include_colab_link": true
    },
    "kernelspec": {
      "name": "python3",
      "display_name": "Python 3"
    },
    "language_info": {
      "name": "python"
    }
  },
  "cells": [
    {
      "cell_type": "markdown",
      "metadata": {
        "id": "view-in-github",
        "colab_type": "text"
      },
      "source": [
        "<a href=\"https://colab.research.google.com/github/jiujitsuhyeon/web_crawling/blob/main/image_crawling.ipynb\" target=\"_parent\"><img src=\"https://colab.research.google.com/assets/colab-badge.svg\" alt=\"Open In Colab\"/></a>"
      ]
    },
    {
      "cell_type": "code",
      "metadata": {
        "id": "S4yTaDeWsCCd"
      },
      "source": [
        "from selenium import webdriver\n",
        "import time\n",
        "import urllib.request\n",
        "\n",
        "driver = webdriver.Chrome(\"C:/Users/user/anaconda3/chromedriver.exe\")\n",
        "driver.get(\"https://www.google.co.kr/search?q=%EC%9D%B8%EC%A0%88%EB%AF%B8+%EB%8C%95%EB%8C%95%EC%9D%B4&hl=ko&tbm=isch&sxsrf=ALeKk02Q5DPJVvkDzmhx4JJuDiOYXnZZyQ%3A1627316818843&source=hp&biw=1536&bih=818&ei=UuL-YInJMYWG-Aal8JnABQ&oq=%EC%9D%B8%EC%A0%88%EB%AF%B8+%EB%8C%95%EB%8C%95%EC%9D%B4&gs_lcp=CgNpbWcQAzIECCMQJzoFCAAQsQM6AggAOggIABCxAxCDAToHCCMQ6gIQJ1ClBFjbFmC9F2gFcAB4AoABc4gB8Q-SAQQyLjE3mAEAoAEBqgELZ3dzLXdpei1pbWewAQo&sclient=img&ved=0ahUKEwiJurDHk4HyAhUFA94KHSV4BlgQ4dUDCAc&uact=5\" )\n",
        "\n",
        "time.sleep(3)\n",
        "\n",
        "SCROLL_PAUSE_TIME = 1\n",
        "last_height = driver.execute_script(\"return document.body.scrollHeight\")\n",
        "\n",
        "while True:\n",
        "    driver.execute_script(\"window.scrollTo(0, document.body.scrollHeight);\")\n",
        "    \n",
        "    time.sleep(SCROLL_PAUSE_TIME)\n",
        "    \n",
        "    new_height = driver.execute_script(\"return document.body.scrollHeight\")\n",
        "    \n",
        "    time.sleep(3)\n",
        "    \n",
        "    if new_height == last_height:\n",
        "        break\n",
        "    last_height = new_height\n",
        "\n",
        "images = driver.find_elements_by_css_selector(\".rg_i.Q4LuWd\")\n",
        "img_url = []\n",
        "\n",
        "for image in images :\n",
        "    url = image.get_attribute('src')\n",
        "    img_url.append(url)\n",
        "\n",
        "time.sleep(5)\n",
        "\n",
        "import os \n",
        "\n",
        "img_folder = 'C:/Users/user/Desktop/그림/그림'\n",
        "\n",
        "for index, link in enumerate(img_url) :\n",
        "    try:\n",
        "        urllib.request.urlretrieve(link, f'C:/Users/user/Desktop/그림/그림/{index}.jpg')\n",
        "    except:\n",
        "        break\n",
        "driver.close()"
      ],
      "execution_count": null,
      "outputs": []
    }
  ]
}